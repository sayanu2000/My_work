{
 "cells": [
  {
   "cell_type": "code",
   "execution_count": 1,
   "id": "2bedcb1b",
   "metadata": {},
   "outputs": [],
   "source": [
    "from tkinter import *\n",
    "\n",
    "window=Tk()\n",
    "til=window.title(\"CALCULATOR\")\n",
    "\n",
    "window.geometry(\"350x350\")\n",
    "window.resizable(0,0)\n",
    "window.configure(cursor=\"dotbox\")\n",
    "\n",
    "\n",
    "\n",
    "frame1=Frame(window)\n",
    "frame1.pack()\n",
    "\n",
    "eqn=StringVar()\n",
    "exprsn=\"\"\n",
    "#define the fuction press(),clear(),eql()\n",
    "\n",
    "\n",
    "def press(num):\n",
    "    global exprsn\n",
    "    exprsn=exprsn+str(num)\n",
    "    eqn.set(exprsn)\n",
    "    \n",
    "def clear():\n",
    "    global exprsn\n",
    "    exprsn=\"\"\n",
    "    eqn.set(exprsn)\n",
    "    \n",
    "def eql():\n",
    "    try:\n",
    "        global exprsn\n",
    "        total=str(eval(exprsn))\n",
    "        eqn.set(total)\n",
    "        exprsn=\"\"\n",
    "    except:\n",
    "        eqn.set(\"Math Error\")\n",
    "        exprsn=\"\"\n",
    "\n",
    "\n",
    "window.mainloop()"
   ]
  },
  {
   "cell_type": "code",
   "execution_count": 1,
   "id": "e9fc4ace",
   "metadata": {},
   "outputs": [],
   "source": [
    "import numpy as np"
   ]
  },
  {
   "cell_type": "code",
   "execution_count": null,
   "id": "3dfd2154",
   "metadata": {},
   "outputs": [],
   "source": []
  }
 ],
 "metadata": {
  "kernelspec": {
   "display_name": "Python 3 (ipykernel)",
   "language": "python",
   "name": "python3"
  },
  "language_info": {
   "codemirror_mode": {
    "name": "ipython",
    "version": 3
   },
   "file_extension": ".py",
   "mimetype": "text/x-python",
   "name": "python",
   "nbconvert_exporter": "python",
   "pygments_lexer": "ipython3",
   "version": "3.10.6"
  }
 },
 "nbformat": 4,
 "nbformat_minor": 5
}
